{
 "cells": [
  {
   "cell_type": "code",
   "execution_count": 1,
   "metadata": {},
   "outputs": [],
   "source": [
    "from numpy import concatenate, zeros\n",
    "from scipy.linalg import toeplitz\n",
    "import matplotlib.pyplot as plt"
   ]
  },
  {
   "cell_type": "code",
   "execution_count": 2,
   "metadata": {},
   "outputs": [],
   "source": [
    "import torch\n",
    "import torch.nn as nn\n",
    "import torch.nn.functional as F\n",
    "from torch.utils.data import TensorDataset, DataLoader"
   ]
  },
  {
   "cell_type": "code",
   "execution_count": 12,
   "metadata": {},
   "outputs": [
    {
     "data": {
      "text/plain": [
       "<matplotlib.image.AxesImage at 0x212349d6198>"
      ]
     },
     "execution_count": 12,
     "metadata": {},
     "output_type": "execute_result"
    },
    {
     "data": {
      "image/png": "[encoded data removed]",
      "text/plain": [
       "<Figure size 432x288 with 1 Axes>"
      ]
     },
     "metadata": {
      "needs_background": "light"
     },
     "output_type": "display_data"
    }
   ],
   "source": [
    "x_np = toeplitz(concatenate([[1.], zeros(99)]),concatenate([[1.,1.], zeros(98)]))[0:5, :]\n",
    "plt.imshow(x_np)"
   ]
  },
  {
   "cell_type": "code",
   "execution_count": 4,
   "metadata": {},
   "outputs": [],
   "source": [
    "rnn = nn.LSTM(input_size=10, hidden_size=20, num_layers=2)#(input_size,hidden_size,num_layers)\n",
    "input = torch.randn(5, 3, 10)#(seq_len, batch, input_size)\n",
    "h0 = torch.randn(2, 3, 20) #(num_layers,batch,output_size)\n",
    "c0 = torch.randn(2, 3, 20) #(num_layers,batch,output_size)\n",
    "output, (hn, cn) = rnn(input, (h0, c0))\n"
   ]
  },
  {
   "cell_type": "code",
   "execution_count": 17,
   "metadata": {
    "scrolled": true
   },
   "outputs": [
    {
     "data": {
      "text/plain": [
       "<Figure size 432x288 with 0 Axes>"
      ]
     },
     "metadata": {},
     "output_type": "display_data"
    }
   ],
   "source": [
    "import torch\n",
    "from torch import nn\n",
    "import numpy as np\n",
    "import matplotlib as mat\n",
    "mat.use(\"TkAgg\")\n",
    "import matplotlib.pyplot as plt\n",
    "import time\n",
    "from torch.autograd import Variable\n",
    "import cv2\n",
    "torch.manual_seed(1)    # reproducible\n",
    "\n",
    "hidden_siz = 50\n",
    "hidden_lay = 1\n",
    "\n",
    "LR = 0.02           # learning rate\n",
    "class LSNN(nn.Module):\n",
    "    def __init__(self):\n",
    "        super(LSNN, self).__init__()\n",
    "        self.lstm = nn.LSTM(  \n",
    "            input_size=5,\n",
    "            hidden_size=hidden_siz,    \n",
    "            num_layers=hidden_lay,      \n",
    "            batch_first=True,\n",
    "\n",
    "        )\n",
    "        self.hidden = (torch.autograd.Variable(torch.zeros(hidden_lay, 1, hidden_siz)),torch.autograd.Variable(torch.zeros(hidden_lay, 1, hidden_siz)))\n",
    "        self.out = nn.Linear(hidden_siz, 1)\n",
    "\n",
    "    def forward(self,x):\n",
    "        # x (batch, time_step, input_size)\n",
    "        # h_state (n_layers, batch, hidden_size)\n",
    "        # r_out (batch, time_step, output_size)\n",
    "        r_out,self.hidden= self.lstm(x,self.hidden)\n",
    "        self.hidden=(Variable(self.hidden[0]),Variable(self.hidden[1]))\n",
    "        outs = []\n",
    "        for time_step in range(r_out.size(1)):\n",
    "            outs.append(self.out(r_out[:, time_step, :]))\n",
    "        return torch.stack(outs, dim=1)\n",
    "\n",
    "'''\n",
    "    def forward(self, x, h_n,h_c):\n",
    "        r_out,  = self.rnn(x, h_state)\n",
    "        r_out = r_out.view(-1, 32)\n",
    "        outs = self.out(r_out)\n",
    "        return outs.view(-1, 10, 1), h_state\n",
    "'''\n",
    "\n",
    "\n",
    "lstmNN = LSNN()\n",
    "optimizer = torch.optim.Adam(lstmNN.parameters(), lr=LR)  # optimize all rnn parameters\n",
    "loss_func = nn.MSELoss()\n",
    "\n",
    "\n",
    "\n",
    "\n",
    "loss_list = []\n",
    "prediction_list = []\n",
    "for step in range(94):\n",
    "    steps = np.linspace(0, 100, 100, dtype=np.float32)\n",
    "    \n",
    "    if step == 0:\n",
    "        x_np = toeplitz(concatenate([[1.], zeros(99)]),concatenate([[1.,1.,1.], zeros(97)]))[step: 5, :]\n",
    "        y_np = toeplitz(concatenate([[1.], zeros(99)]),concatenate([[1.,1.,1.], zeros(97)]))[5:6, :] \n",
    "    else:\n",
    "        x_np = concatenate([\n",
    "                            toeplitz(concatenate([[1.], zeros(99)]),concatenate([[1.,1.,1.], zeros(97)]))[step: step+4, :],\n",
    "                            prediction.view(1,100).data.numpy()])\n",
    "        y_np = toeplitz(concatenate([[1.], zeros(99)]),concatenate([[1.,1.,1.], zeros(97)]))[step+5:step+6, :]\n",
    "    \n",
    "    #x_np = steps    # float32 for converting torch FloatTensor\n",
    "    #y_np = steps\n",
    "    x = Variable(torch.from_numpy(x_np).float())  # shape (batch, time_step, input_size)\n",
    "    y = Variable(torch.from_numpy(y_np).float())\n",
    "    x = x.permute(-1,0).view(1,100,5)\n",
    "    y = y.view(1,100,1)\n",
    "    prediction = lstmNN(x)\n",
    "    prediction_list.append(prediction.data.view(100).numpy())\n",
    "\n",
    "    loss = loss_func(prediction, y)     # cross entropy loss\n",
    "    loss_list.append(loss)\n",
    "    \n",
    "    #train_loss += loss*X.size(0)\n",
    "    \n",
    "    optimizer.zero_grad()               # clear gradients for this training step\n",
    "    loss.backward()                     # backpropagation, compute gradients\n",
    "    optimizer.step()\n",
    "    # apply gradients\n",
    "    plt.figsize=(20, 10)\n",
    "    plt.ion()\n",
    "    plt.title(step,fontsize=24)\n",
    "    plt.plot(steps, y_np.flatten(), 'r-')\n",
    "    plt.plot(steps, prediction.data.numpy().flatten(), 'b-')\n",
    "    #plt.legend()\n",
    "    plt.draw()\n",
    "    plt.pause(0.01)\n",
    "    plt.clf()\n",
    "\n",
    "    plt.ioff()\n",
    "    #plt.show()\n"
   ]
  },
  {
   "cell_type": "code",
   "execution_count": 6,
   "metadata": {},
   "outputs": [
    {
     "data": {
      "image/png": "[encoded data removed]",
      "text/plain": [
       "<Figure size 432x288 with 1 Axes>"
      ]
     },
     "metadata": {
      "needs_background": "light"
     },
     "output_type": "display_data"
    }
   ],
   "source": [
    "plt.plot(steps[:94], loss_list, label = 'Loss')\n",
    "plt.legend()\n",
    "plt.show()"
   ]
  },
  {
   "cell_type": "code",
   "execution_count": 18,
   "metadata": {},
   "outputs": [
    {
     "data": {
      "image/png": "[encoded data removed]",
      "text/plain": [
       "<Figure size 432x288 with 1 Axes>"
      ]
     },
     "metadata": {
      "needs_background": "light"
     },
     "output_type": "display_data"
    }
   ],
   "source": [
    "torch.manual_seed(1)    # reproducible\n",
    "\n",
    "loss_func = nn.MSELoss()\n",
    "\n",
    "loss_list = []\n",
    "prediction_list = []\n",
    "for step in range(94):\n",
    "    steps = np.linspace(0, 100, 100, dtype=np.float32)\n",
    "    \n",
    "    if step <6:\n",
    "        if step == 0:\n",
    "            x_np = toeplitz(concatenate([[1.], zeros(99)]),concatenate([[1.,1.,1.], zeros(97)]))[step: 5, :]\n",
    "            y_np = toeplitz(concatenate([[1.], zeros(99)]),concatenate([[1.,1.,1.], zeros(97)]))[5:6, :] \n",
    "        else:\n",
    "            \n",
    "            x_np = concatenate([toeplitz(concatenate([[1.], zeros(99)]),concatenate([[1.,1.,1.], zeros(97)]))[step: 5, :],\n",
    "                                np.array(prediction_list[:step])])\n",
    "            y_np = toeplitz(concatenate([[1.], zeros(99)]),concatenate([[1.,1.,1.], zeros(97)]))[step+5:step+6, :]\n",
    "        \n",
    "    else:\n",
    "        x_np = np.array(prediction_list[-5:])\n",
    "        y_np = toeplitz(concatenate([[1.], zeros(99)]),concatenate([[1.,1.,1.], zeros(97)]))[step+5:step+6, :]   \n",
    "    \n",
    "    #x_np = steps    # float32 for converting torch FloatTensor\n",
    "    #y_np = steps\n",
    "    x = Variable(torch.from_numpy(x_np).float())  # shape (batch, time_step, input_size)\n",
    "    y = Variable(torch.from_numpy(y_np).float())\n",
    "\n",
    "    x = x.permute(-1,0).view(1,100,5)\n",
    "    y = y.view(1,100,1)\n",
    "    with torch.no_grad():\n",
    "        prediction = lstmNN(x)\n",
    "        #print(\"pre \",prediction.data.size())\n",
    "        prediction_list.append(prediction.data.view(100).numpy())\n",
    "        #print(prediction_list)\n",
    "        loss = loss_func(prediction, y)     # cross entropy loss\n",
    "        loss_list.append(loss)\n",
    "    \n",
    "    #train_loss += loss*X.size(0)\n",
    "    \n",
    "    # apply gradients\n",
    "    plt.figsize=(20, 10)\n",
    "    plt.ion()\n",
    "    plt.title(step,fontsize=24)\n",
    "    plt.plot(steps, y_np.flatten(), 'r-')\n",
    "    plt.plot(steps, prediction.data.numpy().flatten(), 'b-')\n",
    "    #plt.legend()\n",
    "    plt.draw()\n",
    "    plt.pause(0.5)\n",
    "    plt.clf()\n",
    "\n",
    "    plt.ioff()\n",
    "    #plt.show()\n",
    "plt.plot(steps, y_np.flatten(), 'r-')\n",
    "plt.plot(steps, prediction.data.numpy().flatten(), 'b-')\n",
    "plt.show()"
   ]
  },
  {
   "cell_type": "code",
   "execution_count": 19,
   "metadata": {
    "scrolled": true
   },
   "outputs": [
    {
     "data": {
      "image/png": "[encoded data removed]",
      "text/plain": [
       "<Figure size 432x288 with 1 Axes>"
      ]
     },
     "metadata": {
      "needs_background": "light"
     },
     "output_type": "display_data"
    }
   ],
   "source": [
    "plt.plot(steps[:94], loss_list, label = 'Loss')\n",
    "plt.legend()\n",
    "plt.show()"
   ]
  },
  {
   "cell_type": "code",
   "execution_count": null,
   "metadata": {},
   "outputs": [],
   "source": []
  }
 ],
 "metadata": {
  "kernelspec": {
   "display_name": "Python 3",
   "language": "python",
   "name": "python3"
  },
  "language_info": {
   "codemirror_mode": {
    "name": "ipython",
    "version": 3
   },
   "file_extension": ".py",
   "mimetype": "text/x-python",
   "name": "python",
   "nbconvert_exporter": "python",
   "pygments_lexer": "ipython3",
   "version": "3.7.3"
  }
 },
 "nbformat": 4,
 "nbformat_minor": 2
}
